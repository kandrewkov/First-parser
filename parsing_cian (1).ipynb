{
 "cells": [
  {
   "cell_type": "code",
   "execution_count": 1,
   "metadata": {},
   "outputs": [
    {
     "name": "stdout",
     "output_type": "stream",
     "text": [
      "Requirement already satisfied: requests in c:\\programdata\\anaconda3\\lib\\site-packages (2.21.0)\n",
      "Requirement already satisfied: chardet<3.1.0,>=3.0.2 in c:\\programdata\\anaconda3\\lib\\site-packages (from requests) (3.0.4)\n",
      "Requirement already satisfied: certifi>=2017.4.17 in c:\\programdata\\anaconda3\\lib\\site-packages (from requests) (2018.11.29)\n",
      "Requirement already satisfied: urllib3<1.25,>=1.21.1 in c:\\programdata\\anaconda3\\lib\\site-packages (from requests) (1.24.1)\n",
      "Requirement already satisfied: idna<2.9,>=2.5 in c:\\programdata\\anaconda3\\lib\\site-packages (from requests) (2.8)\n"
     ]
    },
    {
     "name": "stderr",
     "output_type": "stream",
     "text": [
      "WARNING: pip is being invoked by an old script wrapper. This will fail in a future version of pip.\n",
      "Please see https://github.com/pypa/pip/issues/5599 for advice on fixing the underlying issue.\n",
      "To avoid this problem you can invoke Python with '-m pip' instead of running pip directly.\n",
      "WARNING: You are using pip version 20.2.3; however, version 20.3.1 is available.\n",
      "You should consider upgrading via the 'C:\\ProgramData\\Anaconda3\\python.exe -m pip install --upgrade pip' command.\n"
     ]
    }
   ],
   "source": [
    "!pip install requests"
   ]
  },
  {
   "cell_type": "code",
   "execution_count": 3,
   "metadata": {
    "ExecuteTime": {
     "end_time": "2020-12-11T15:59:21.300381Z",
     "start_time": "2020-12-11T15:59:16.112084Z"
    }
   },
   "outputs": [
    {
     "name": "stdout",
     "output_type": "stream",
     "text": [
      "Collecting beautifulsoup4\n",
      "  Downloading beautifulsoup4-4.9.3-py3-none-any.whl (115 kB)\n",
      "\u001b[K     |████████████████████████████████| 115 kB 784 kB/s eta 0:00:01\n",
      "\u001b[?25hCollecting soupsieve>1.2\n",
      "  Downloading soupsieve-2.1-py3-none-any.whl (32 kB)\n",
      "Installing collected packages: soupsieve, beautifulsoup4\n",
      "Successfully installed beautifulsoup4-4.9.3 soupsieve-2.1\n"
     ]
    }
   ],
   "source": [
    "!pip3.9 install beautifulsoup4"
   ]
  },
  {
   "cell_type": "code",
   "execution_count": 78,
   "metadata": {
    "ExecuteTime": {
     "end_time": "2020-12-11T18:53:47.531276Z",
     "start_time": "2020-12-11T18:53:47.528649Z"
    }
   },
   "outputs": [],
   "source": [
    "import requests\n",
    "from bs4 import BeautifulSoup as bs\n"
   ]
  },
  {
   "cell_type": "code",
   "execution_count": 79,
   "metadata": {
    "ExecuteTime": {
     "end_time": "2020-12-11T18:53:51.626364Z",
     "start_time": "2020-12-11T18:53:48.148693Z"
    }
   },
   "outputs": [],
   "source": [
    "# 2.1\n",
    "def get_links():  \n",
    "    URL = \"https://www.cian.ru/kupit-1-komnatnuyu-kvartiru/\"\n",
    "    res = requests.get(URL)\n",
    "    soup = bs(res.content, 'html')\n",
    "    items = [item for item in soup.find_all(\"div\", {'class' : \"_93444fe79c--general--2SDGY\"}, limit=10)]\n",
    "    links = [item.a.get('href') for item in items]\n",
    "    return links\n",
    "links = get_links()"
   ]
  },
  {
   "cell_type": "code",
   "execution_count": 81,
   "metadata": {
    "ExecuteTime": {
     "end_time": "2020-12-11T18:55:02.189175Z",
     "start_time": "2020-12-11T18:54:00.372819Z"
    }
   },
   "outputs": [
    {
     "name": "stderr",
     "output_type": "stream",
     "text": [
      "100%|██████████| 10/10 [01:01<00:00,  6.18s/it]\n"
     ]
    }
   ],
   "source": [
    "#Общая стоимость, адрес, метро, тип жилья,| площадь комнат, Этаж, Срок сдачи\n",
    "import time\n",
    "from tqdm import tqdm\n",
    "\n",
    "def get_inf(links):\n",
    "    flats = []\n",
    "    data=\"\"\n",
    "    for link in tqdm(links):\n",
    "        res =  requests.get(link)\n",
    "        soup = bs(res.content, 'html')\n",
    "        cost = soup.find(\"span\", {'itemprop' : \"price\"}).text.strip()\n",
    "        cost = \"\".join(cost.split())[:-1]\n",
    "        address = soup.find(\"address\",{\"class\":\"a10a3f92e9--address--140Ec\"}).text[:-8]\n",
    "        under = soup.find(\"a\", {'class' : \"a10a3f92e9--underground_link--AzxRC\"}).text.strip()\n",
    "        typ = soup.find(\"span\", {\"class\":\"a10a3f92e9--value--3Ftu5\"}).text.strip()\n",
    "        s = soup.find_all(\"div\", {\"class\":\"a10a3f92e9--info--3XiXi\"})\n",
    "        floor = ''\n",
    "        sq = ''\n",
    "        t = ''\n",
    "        for i in s:\n",
    "            i = str(i)\n",
    "            if 'Общая' in i:\n",
    "                sq = i[i.find('18c8R')+len('18c8R')+2:i.find('</div><div class=\"a10a3f92e9--info-title--2bXM9')]\n",
    "            elif 'Жилая' in i:\n",
    "                sq = i[i.find('18c8R')+len('18c8R')+2:i.find('</div><div class=\"a10a3f92e9--info-title--2bXM9')]\n",
    "            elif 'Этаж' in i:\n",
    "                floor = i[i.find('18c8R')+len('18c8R')+2:i.find('</div><div class=\"a10a3f92e9--info-title--2bXM9')]\n",
    "            elif 'Срок сдачи' in i:\n",
    "                t = i[i.find('18c8R')+len('18c8R')+2:i.find('</div><div class=\"a10a3f92e9--info-title--2bXM9')]\n",
    "        flats.append([cost, address, under, typ, sq, floor, t])\n",
    "        time.sleep(5)\n",
    "    return flats\n",
    "flats = get_inf(links)\n",
    "        "
   ]
  },
  {
   "cell_type": "code",
   "execution_count": 80,
   "metadata": {
    "ExecuteTime": {
     "end_time": "2020-12-11T18:53:55.563285Z",
     "start_time": "2020-12-11T18:53:55.558979Z"
    }
   },
   "outputs": [
    {
     "data": {
      "text/plain": [
       "['https://www.cian.ru/sale/flat/245541181/',\n",
       " 'https://www.cian.ru/sale/flat/227192015/',\n",
       " 'https://www.cian.ru/sale/flat/246717609/',\n",
       " 'https://www.cian.ru/sale/flat/246614666/',\n",
       " 'https://www.cian.ru/sale/flat/244876598/',\n",
       " 'https://www.cian.ru/sale/flat/244751681/',\n",
       " 'https://www.cian.ru/sale/flat/244703533/',\n",
       " 'https://www.cian.ru/sale/flat/246868084/',\n",
       " 'https://www.cian.ru/sale/flat/245986062/',\n",
       " 'https://www.cian.ru/sale/flat/242213434/']"
      ]
     },
     "execution_count": 80,
     "metadata": {},
     "output_type": "execute_result"
    }
   ],
   "source": [
    "links"
   ]
  },
  {
   "cell_type": "code",
   "execution_count": 82,
   "metadata": {
    "ExecuteTime": {
     "end_time": "2020-12-11T18:55:02.387963Z",
     "start_time": "2020-12-11T18:55:02.381621Z"
    }
   },
   "outputs": [
    {
     "data": {
      "text/plain": [
       "[['21272737',\n",
       "  'Москва, ЦАО, р-н Басманный, Бакунинская ул., 5',\n",
       "  'Бауманская',\n",
       "  'Новостройка Апартаменты',\n",
       "  '55,3\\xa0м²',\n",
       "  '9 из 12',\n",
       "  '4 кв. 2020'],\n",
       " ['32772547',\n",
       "  'Москва, ЦАО, р-н Арбат, ул. Новый Арбат, 15',\n",
       "  'Арбатская',\n",
       "  'Новостройка Апартаменты',\n",
       "  '53,9\\xa0м²',\n",
       "  '12 из 26',\n",
       "  '2 кв. 2020'],\n",
       " ['15900000',\n",
       "  'Москва, СВАО, р-н Лосиноостровский, Янтарный проезд, 9',\n",
       "  'Свиблово',\n",
       "  'Вторичка',\n",
       "  '57\\xa0м²',\n",
       "  '7 из 16',\n",
       "  ''],\n",
       " ['55335000',\n",
       "  'Москва, ЦАО, р-н Арбат, ул. Арбат, 39',\n",
       "  'Смоленская',\n",
       "  'Новостройка',\n",
       "  '65,1\\xa0м²',\n",
       "  '2 из 5',\n",
       "  '4 кв. 2018'],\n",
       " ['10609435',\n",
       "  'Москва, СЗАО, р-н Покровское-Стрешнево, Волоколамское ш.',\n",
       "  'Трикотажная',\n",
       "  'Новостройка',\n",
       "  '13,2\\xa0м²',\n",
       "  '18 из 28',\n",
       "  '4 кв. 2022'],\n",
       " ['14070388',\n",
       "  'Москва, СЗАО, р-н Хорошево-Мневники, Причальный проезд, 8',\n",
       "  'Шелепиха',\n",
       "  'Новостройка',\n",
       "  '35\\xa0м²',\n",
       "  '29 из 32',\n",
       "  '4 кв. 2023'],\n",
       " ['61080000',\n",
       "  'Москва, ЦАО, р-н Мещанский, пер. Печатников, 19С1',\n",
       "  'Трубная',\n",
       "  'Вторичка',\n",
       "  '101,8\\xa0м²',\n",
       "  '5 из 5',\n",
       "  ''],\n",
       " ['9500000',\n",
       "  'Москва, ЮЗАО, р-н Котловка, ул. Ремизова, 15К3',\n",
       "  'Нагорная',\n",
       "  'Вторичка',\n",
       "  '17\\xa0м²',\n",
       "  '14 из 16',\n",
       "  ''],\n",
       " ['7089000',\n",
       "  'Москва, ЮВАО, р-н Кузьминки, Волгоградский просп.',\n",
       "  'Волгоградский проспект',\n",
       "  'Новостройка',\n",
       "  '25,5\\xa0м²',\n",
       "  '3 из 30',\n",
       "  '1 кв. 2023'],\n",
       " ['8300000',\n",
       "  'Москва, ЗАО, р-н Можайский, Сколковское ш., 30',\n",
       "  'Сетунь',\n",
       "  'Вторичка',\n",
       "  '19,9\\xa0м²',\n",
       "  '14 из 22',\n",
       "  '']]"
      ]
     },
     "execution_count": 82,
     "metadata": {},
     "output_type": "execute_result"
    }
   ],
   "source": [
    "flats"
   ]
  },
  {
   "cell_type": "code",
   "execution_count": 83,
   "metadata": {
    "ExecuteTime": {
     "end_time": "2020-12-11T18:55:02.605588Z",
     "start_time": "2020-12-11T18:55:02.586238Z"
    }
   },
   "outputs": [
    {
     "data": {
      "text/html": [
       "<div>\n",
       "<style scoped>\n",
       "    .dataframe tbody tr th:only-of-type {\n",
       "        vertical-align: middle;\n",
       "    }\n",
       "\n",
       "    .dataframe tbody tr th {\n",
       "        vertical-align: top;\n",
       "    }\n",
       "\n",
       "    .dataframe thead th {\n",
       "        text-align: right;\n",
       "    }\n",
       "</style>\n",
       "<table border=\"1\" class=\"dataframe\">\n",
       "  <thead>\n",
       "    <tr style=\"text-align: right;\">\n",
       "      <th></th>\n",
       "      <th>Цена</th>\n",
       "      <th>Адрес</th>\n",
       "      <th>Метро</th>\n",
       "      <th>Тип</th>\n",
       "      <th>Площадь</th>\n",
       "      <th>Этаж</th>\n",
       "      <th>Срок сдачи</th>\n",
       "    </tr>\n",
       "  </thead>\n",
       "  <tbody>\n",
       "    <tr>\n",
       "      <th>0</th>\n",
       "      <td>21272737</td>\n",
       "      <td>Москва, ЦАО, р-н Басманный, Бакунинская ул., 5</td>\n",
       "      <td>Бауманская</td>\n",
       "      <td>Новостройка Апартаменты</td>\n",
       "      <td>55.3</td>\n",
       "      <td>9/12</td>\n",
       "      <td>4 кв. 2020</td>\n",
       "    </tr>\n",
       "    <tr>\n",
       "      <th>1</th>\n",
       "      <td>32772547</td>\n",
       "      <td>Москва, ЦАО, р-н Арбат, ул. Новый Арбат, 15</td>\n",
       "      <td>Арбатская</td>\n",
       "      <td>Новостройка Апартаменты</td>\n",
       "      <td>53.9</td>\n",
       "      <td>12/26</td>\n",
       "      <td>2 кв. 2020</td>\n",
       "    </tr>\n",
       "    <tr>\n",
       "      <th>2</th>\n",
       "      <td>15900000</td>\n",
       "      <td>Москва, СВАО, р-н Лосиноостровский, Янтарный п...</td>\n",
       "      <td>Свиблово</td>\n",
       "      <td>Вторичка</td>\n",
       "      <td>57</td>\n",
       "      <td>7/16</td>\n",
       "      <td></td>\n",
       "    </tr>\n",
       "    <tr>\n",
       "      <th>3</th>\n",
       "      <td>55335000</td>\n",
       "      <td>Москва, ЦАО, р-н Арбат, ул. Арбат, 39</td>\n",
       "      <td>Смоленская</td>\n",
       "      <td>Новостройка</td>\n",
       "      <td>65.1</td>\n",
       "      <td>2/5</td>\n",
       "      <td>4 кв. 2018</td>\n",
       "    </tr>\n",
       "    <tr>\n",
       "      <th>4</th>\n",
       "      <td>10609435</td>\n",
       "      <td>Москва, СЗАО, р-н Покровское-Стрешнево, Волоко...</td>\n",
       "      <td>Трикотажная</td>\n",
       "      <td>Новостройка</td>\n",
       "      <td>13.2</td>\n",
       "      <td>18/28</td>\n",
       "      <td>4 кв. 2022</td>\n",
       "    </tr>\n",
       "    <tr>\n",
       "      <th>5</th>\n",
       "      <td>14070388</td>\n",
       "      <td>Москва, СЗАО, р-н Хорошево-Мневники, Причальны...</td>\n",
       "      <td>Шелепиха</td>\n",
       "      <td>Новостройка</td>\n",
       "      <td>35</td>\n",
       "      <td>29/32</td>\n",
       "      <td>4 кв. 2023</td>\n",
       "    </tr>\n",
       "    <tr>\n",
       "      <th>6</th>\n",
       "      <td>61080000</td>\n",
       "      <td>Москва, ЦАО, р-н Мещанский, пер. Печатников, 19С1</td>\n",
       "      <td>Трубная</td>\n",
       "      <td>Вторичка</td>\n",
       "      <td>101.8</td>\n",
       "      <td>5/5</td>\n",
       "      <td></td>\n",
       "    </tr>\n",
       "    <tr>\n",
       "      <th>7</th>\n",
       "      <td>9500000</td>\n",
       "      <td>Москва, ЮЗАО, р-н Котловка, ул. Ремизова, 15К3</td>\n",
       "      <td>Нагорная</td>\n",
       "      <td>Вторичка</td>\n",
       "      <td>17</td>\n",
       "      <td>14/16</td>\n",
       "      <td></td>\n",
       "    </tr>\n",
       "    <tr>\n",
       "      <th>8</th>\n",
       "      <td>7089000</td>\n",
       "      <td>Москва, ЮВАО, р-н Кузьминки, Волгоградский просп.</td>\n",
       "      <td>Волгоградский проспект</td>\n",
       "      <td>Новостройка</td>\n",
       "      <td>25.5</td>\n",
       "      <td>3/30</td>\n",
       "      <td>1 кв. 2023</td>\n",
       "    </tr>\n",
       "    <tr>\n",
       "      <th>9</th>\n",
       "      <td>8300000</td>\n",
       "      <td>Москва, ЗАО, р-н Можайский, Сколковское ш., 30</td>\n",
       "      <td>Сетунь</td>\n",
       "      <td>Вторичка</td>\n",
       "      <td>19.9</td>\n",
       "      <td>14/22</td>\n",
       "      <td></td>\n",
       "    </tr>\n",
       "  </tbody>\n",
       "</table>\n",
       "</div>"
      ],
      "text/plain": [
       "       Цена                                              Адрес  \\\n",
       "0  21272737     Москва, ЦАО, р-н Басманный, Бакунинская ул., 5   \n",
       "1  32772547        Москва, ЦАО, р-н Арбат, ул. Новый Арбат, 15   \n",
       "2  15900000  Москва, СВАО, р-н Лосиноостровский, Янтарный п...   \n",
       "3  55335000              Москва, ЦАО, р-н Арбат, ул. Арбат, 39   \n",
       "4  10609435  Москва, СЗАО, р-н Покровское-Стрешнево, Волоко...   \n",
       "5  14070388  Москва, СЗАО, р-н Хорошево-Мневники, Причальны...   \n",
       "6  61080000  Москва, ЦАО, р-н Мещанский, пер. Печатников, 19С1   \n",
       "7   9500000     Москва, ЮЗАО, р-н Котловка, ул. Ремизова, 15К3   \n",
       "8   7089000  Москва, ЮВАО, р-н Кузьминки, Волгоградский просп.   \n",
       "9   8300000     Москва, ЗАО, р-н Можайский, Сколковское ш., 30   \n",
       "\n",
       "                    Метро                      Тип Площадь   Этаж  Срок сдачи  \n",
       "0              Бауманская  Новостройка Апартаменты    55.3   9/12  4 кв. 2020  \n",
       "1               Арбатская  Новостройка Апартаменты    53.9  12/26  2 кв. 2020  \n",
       "2                Свиблово                 Вторичка      57   7/16              \n",
       "3              Смоленская              Новостройка    65.1    2/5  4 кв. 2018  \n",
       "4             Трикотажная              Новостройка    13.2  18/28  4 кв. 2022  \n",
       "5                Шелепиха              Новостройка      35  29/32  4 кв. 2023  \n",
       "6                 Трубная                 Вторичка   101.8    5/5              \n",
       "7                Нагорная                 Вторичка      17  14/16              \n",
       "8  Волгоградский проспект              Новостройка    25.5   3/30  1 кв. 2023  \n",
       "9                  Сетунь                 Вторичка    19.9  14/22              "
      ]
     },
     "execution_count": 83,
     "metadata": {},
     "output_type": "execute_result"
    }
   ],
   "source": [
    "flats2 = flats\n",
    "for i in flats2:\n",
    "    i[0] = int(i[0])\n",
    "    try:\n",
    "        i[4] = float(i[4].replace('\\xa0м²', '').replace(',', '.'))\n",
    "    except:\n",
    "        pass\n",
    "    i[5] = i[5].replace(' из ', '/')\n",
    "    \n",
    "import pandas as pd\n",
    "df = pd.DataFrame(np.array(flats2), columns=['Цена', 'Адрес','Метро','Тип', 'Площадь', 'Этаж','Срок сдачи'])\n",
    "for i in range(len(df['Цена'])):\n",
    "    df['Цена'][i] = int(df['Цена'][i])\n",
    "    df['Площадь'][i] = float(df['Площадь'][i])\n",
    "df"
   ]
  },
  {
   "cell_type": "code",
   "execution_count": 84,
   "metadata": {
    "ExecuteTime": {
     "end_time": "2020-12-11T18:55:02.809990Z",
     "start_time": "2020-12-11T18:55:02.795439Z"
    }
   },
   "outputs": [
    {
     "data": {
      "text/html": [
       "<div>\n",
       "<style scoped>\n",
       "    .dataframe tbody tr th:only-of-type {\n",
       "        vertical-align: middle;\n",
       "    }\n",
       "\n",
       "    .dataframe tbody tr th {\n",
       "        vertical-align: top;\n",
       "    }\n",
       "\n",
       "    .dataframe thead th {\n",
       "        text-align: right;\n",
       "    }\n",
       "</style>\n",
       "<table border=\"1\" class=\"dataframe\">\n",
       "  <thead>\n",
       "    <tr style=\"text-align: right;\">\n",
       "      <th></th>\n",
       "      <th>Цена</th>\n",
       "      <th>Адрес</th>\n",
       "      <th>Метро</th>\n",
       "      <th>Тип</th>\n",
       "      <th>Площадь</th>\n",
       "      <th>Этаж</th>\n",
       "      <th>Срок сдачи</th>\n",
       "    </tr>\n",
       "  </thead>\n",
       "  <tbody>\n",
       "    <tr>\n",
       "      <th>5</th>\n",
       "      <td>14070388</td>\n",
       "      <td>Москва, СЗАО, р-н Хорошево-Мневники, Причальны...</td>\n",
       "      <td>Шелепиха</td>\n",
       "      <td>Новостройка</td>\n",
       "      <td>35</td>\n",
       "      <td>29/32</td>\n",
       "      <td>4 кв. 2023</td>\n",
       "    </tr>\n",
       "    <tr>\n",
       "      <th>8</th>\n",
       "      <td>7089000</td>\n",
       "      <td>Москва, ЮВАО, р-н Кузьминки, Волгоградский просп.</td>\n",
       "      <td>Волгоградский проспект</td>\n",
       "      <td>Новостройка</td>\n",
       "      <td>25.5</td>\n",
       "      <td>3/30</td>\n",
       "      <td>1 кв. 2023</td>\n",
       "    </tr>\n",
       "  </tbody>\n",
       "</table>\n",
       "</div>"
      ],
      "text/plain": [
       "       Цена                                              Адрес  \\\n",
       "5  14070388  Москва, СЗАО, р-н Хорошево-Мневники, Причальны...   \n",
       "8   7089000  Москва, ЮВАО, р-н Кузьминки, Волгоградский просп.   \n",
       "\n",
       "                    Метро          Тип Площадь   Этаж  Срок сдачи  \n",
       "5                Шелепиха  Новостройка      35  29/32  4 кв. 2023  \n",
       "8  Волгоградский проспект  Новостройка    25.5   3/30  1 кв. 2023  "
      ]
     },
     "execution_count": 84,
     "metadata": {},
     "output_type": "execute_result"
    }
   ],
   "source": [
    "df.loc[df['Цена']<=20000000].loc[df['Площадь']>=15].loc[df['Тип'] == 'Новостройка']\\\n",
    ".sort_values(by=['Цена'],ascending=False).head(10)"
   ]
  },
  {
   "cell_type": "code",
   "execution_count": null,
   "metadata": {},
   "outputs": [],
   "source": []
  }
 ],
 "metadata": {
  "kernelspec": {
   "display_name": "Python 3",
   "language": "python",
   "name": "python3"
  },
  "language_info": {
   "codemirror_mode": {
    "name": "ipython",
    "version": 3
   },
   "file_extension": ".py",
   "mimetype": "text/x-python",
   "name": "python",
   "nbconvert_exporter": "python",
   "pygments_lexer": "ipython3",
   "version": "3.7.1"
  },
  "varInspector": {
   "cols": {
    "lenName": 16,
    "lenType": 16,
    "lenVar": 40
   },
   "kernels_config": {
    "python": {
     "delete_cmd_postfix": "",
     "delete_cmd_prefix": "del ",
     "library": "var_list.py",
     "varRefreshCmd": "print(var_dic_list())"
    },
    "r": {
     "delete_cmd_postfix": ") ",
     "delete_cmd_prefix": "rm(",
     "library": "var_list.r",
     "varRefreshCmd": "cat(var_dic_list()) "
    }
   },
   "types_to_exclude": [
    "module",
    "function",
    "builtin_function_or_method",
    "instance",
    "_Feature"
   ],
   "window_display": false
  }
 },
 "nbformat": 4,
 "nbformat_minor": 2
}
